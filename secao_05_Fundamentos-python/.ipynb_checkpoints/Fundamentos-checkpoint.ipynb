{
 "cells": [
  {
   "cell_type": "markdown",
   "metadata": {},
   "source": [
    "# Primeiros Exemplos"
   ]
  },
  {
   "cell_type": "code",
   "execution_count": null,
   "metadata": {},
   "outputs": [],
   "source": [
    "print('hello word!')"
   ]
  },
  {
   "cell_type": "code",
   "execution_count": null,
   "metadata": {},
   "outputs": [],
   "source": [
    "1 \\\n",
    "    + 2"
   ]
  },
  {
   "cell_type": "code",
   "execution_count": null,
   "metadata": {},
   "outputs": [],
   "source": [
    "help(print)"
   ]
  },
  {
   "cell_type": "markdown",
   "metadata": {},
   "source": [
    "print(1 + 2 + 3)\n",
    "print(3 + 4 + 5)"
   ]
  },
  {
   "cell_type": "markdown",
   "metadata": {},
   "source": [
    "# Tipos Básicos"
   ]
  },
  {
   "cell_type": "code",
   "execution_count": null,
   "metadata": {},
   "outputs": [],
   "source": [
    "print(True)\n",
    "print(False)\n",
    "print(1.2 + 1)\n",
    "print('Aqui eu falo a minha lingua!')\n",
    "print(\"aspas duplas tambem funciona\")\n",
    "print('Você é ' + 3 * 'muitoo ' + 'legal')\n",
    "# print(3 + '3') => ambiguidade\n",
    "print([1,2,3])\n",
    "print({'name': 'victor', 'age': 21})\n",
    "print(None)"
   ]
  },
  {
   "cell_type": "markdown",
   "metadata": {},
   "source": [
    "# Variáveis"
   ]
  },
  {
   "cell_type": "code",
   "execution_count": null,
   "metadata": {},
   "outputs": [],
   "source": [
    "a = 10\n",
    "b = 25\n",
    "\n",
    "print(a + b)\n",
    "print(a)\n",
    "\n",
    "a = 'agora sou uma string'\n",
    "print(a)"
   ]
  },
  {
   "cell_type": "markdown",
   "metadata": {},
   "source": [
    "# Operadores aritméticos"
   ]
  },
  {
   "cell_type": "code",
   "execution_count": null,
   "metadata": {},
   "outputs": [],
   "source": [
    "print( 2 + 3)\n",
    "print( 2 - 3)\n",
    "print( 2 * 3)\n",
    "print( 4 / 2)\n",
    "print( 3 / 2)\n",
    "print( 3 // 2)\n",
    "print( 2 ** 3)\n",
    "print(10 % 3)\n",
    "y = 1\n",
    "# um operando (unario)\n",
    "# dois operandos (binario)\n",
    "# tres operandos (ternario)"
   ]
  },
  {
   "cell_type": "markdown",
   "metadata": {},
   "source": [
    "# Desafio"
   ]
  },
  {
   "cell_type": "code",
   "execution_count": null,
   "metadata": {},
   "outputs": [],
   "source": [
    "salario = 3450.45\n",
    "despesas = 2456.2\n",
    "percentual_comprometimento =  despesas / salario * 100\n",
    "print(percentual_comprometimento)"
   ]
  },
  {
   "cell_type": "markdown",
   "metadata": {},
   "source": [
    "# Operadores Relacionais"
   ]
  },
  {
   "cell_type": "code",
   "execution_count": null,
   "metadata": {},
   "outputs": [],
   "source": [
    "3 > 4\n",
    "3 < 4\n",
    "3 >= 4\n",
    "3 <= 4\n",
    "3 != 4\n",
    "3 == 4\n",
    "3 == '4'"
   ]
  },
  {
   "cell_type": "markdown",
   "metadata": {},
   "source": [
    "# Operadores de Atribuição"
   ]
  },
  {
   "cell_type": "code",
   "execution_count": null,
   "metadata": {},
   "outputs": [],
   "source": [
    "a = 3\n",
    "a = a + 7\n",
    "a += 7\n",
    "a *= 7\n",
    "a /= 7\n",
    "a -= 7 \n",
    "a %= 7\n",
    "a **= 7\n",
    "a //= 7"
   ]
  },
  {
   "cell_type": "markdown",
   "metadata": {},
   "source": [
    "# Operadores Logicos"
   ]
  },
  {
   "cell_type": "code",
   "execution_count": null,
   "metadata": {},
   "outputs": [],
   "source": [
    "# Tabela verdade do or\n",
    "print(False or False)\n",
    "print(False or True)\n",
    "print(True or False)\n",
    "print(True or True)\n",
    "\n",
    "# Tabela verdade do and\n",
    "print(False and False)\n",
    "print(False and True)\n",
    "print(True and False)\n",
    "print(True and True)\n",
    "\n",
    "# Tabela verdade do xor\n",
    "print(False != False)\n",
    "print(False != True)\n",
    "print(True != False)\n",
    "print(True != True)\n",
    "\n",
    "# Operador unario Not\n",
    "not False\n",
    "not True\n",
    "\n",
    "not not True\n",
    "not not not False\n",
    "\n",
    "# Cuidado\n",
    "# Operadores bit a bit\n",
    "True & True\n",
    "False | True\n",
    "True ^ False\n",
    "\n",
    "# && curto circuito\n",
    "# binarios \n",
    "# 3 = 11\n",
    "# 2 = 10\n",
    "3 & 2 \n",
    "# ele compara bit-a-bit como se fosse uma operação\n",
    "# And bit-a-bit\n",
    "# 11 = 1 \n",
    "# 10 = 0\n",
    "# logo 3 & 2 = 10 binario\n",
    "# e o mesmo conceito é usado para as demais operações\n",
    "\n",
    "# OR bit-a-bit\n",
    "# 3 = 11\n",
    "# 2 = 10\n",
    "# 11\n",
    "3 | 2 \n",
    "\n",
    "# XOR bit-a-bit\n",
    "# 3 = 11\n",
    "# 2 = 10\n",
    "# 01\n",
    "3 ^ 2 \n",
    "\n",
    "\n",
    "# Um pouco de realidade\n",
    "saldo  = 1000\n",
    "salario = 4000\n",
    "despesas = 2967\n",
    "\n",
    "# Desafio\n",
    "\n",
    "# Verificar se o nosso amigo bateu a meta ou nao\n",
    "\n",
    "# Se o saldo estiver positivo e o que sobrou no mes foi mais que 20% entao ele bateu a meta\n",
    "\n",
    "# resposta\n",
    "saldo_positivo = saldo > 0\n",
    "despesas_controladas = salario - despesas >= 0.2 * salario\n",
    "meta = saldo_positivo  and despesas_controladas\n",
    "\n",
    "print(\"meta: \", meta)\n",
    "\n",
    "# se substituir o and pelo & vai dar inconsistencia, pois o & tem uma precedencia maior do que os demais \n",
    "# operadores"
   ]
  },
  {
   "cell_type": "markdown",
   "metadata": {},
   "source": [
    "# Desafio Operadores Logicos"
   ]
  },
  {
   "cell_type": "markdown",
   "metadata": {},
   "source": [
    "### ***Uma pessoa vai realizar duas entrevistas de emprego durante a semana, uma na segunda e a outra na sexta  se a pessoa conseguir admição nas duas entrevistas ela prometeu a familia leva-los em um restaurante e logo após pedir uma sobremesa, se a pessoa for admita em apenas um dos dois empregos ela vai levar a familia para tomar sorvete, caso ele nao consiga nenhum dos dois empregos, ele não vai levar a familia em lugar algum, porem ele vai se manter saudavel.***\n",
    ">\n",
    ">\n"
   ]
  },
  {
   "cell_type": "code",
   "execution_count": null,
   "metadata": {},
   "outputs": [],
   "source": [
    "# Os trabalhos \n",
    "trabalho_segunda = False\n",
    "trabalho_sexta = False\n",
    "\n",
    "\"\"\" \n",
    "- confirmado os 2 trabalhos = restaurante + sobremesa\n",
    "- confirmado apenas 1 trabalho = apenas sorvete\n",
    "- nenhum trabalho confirmado = mais saudavel\n",
    "\"\"\"\n",
    "\n",
    "restaurante_sobremesa = trabalho_segunda and trabalho_sexta\n",
    "sorvete = trabalho_segunda or trabalho_sexta\n",
    "saude = not sorvete\n",
    "\n",
    "print('restaurante + sobremesa: {}, sorvete: {}, saude: {}'\n",
    "      .format(restaurante_sobremesa,sorvete,saude))"
   ]
  },
  {
   "cell_type": "markdown",
   "metadata": {},
   "source": [
    "# Operadores Unarios"
   ]
  },
  {
   "cell_type": "code",
   "execution_count": null,
   "metadata": {},
   "outputs": [],
   "source": [
    "a = 3\n",
    "print(a)\n",
    "# a++ não funciona\n",
    "a += 1\n",
    "print(a)\n",
    "print(-a)\n",
    "print(a)\n",
    "\n",
    "# Logicos\n",
    "print(not 0)\n",
    "print(not 1)\n",
    "print(not -1) \n",
    "print(not False)"
   ]
  },
  {
   "cell_type": "markdown",
   "metadata": {},
   "source": [
    "# Operadores Ternarios"
   ]
  },
  {
   "cell_type": "code",
   "execution_count": null,
   "metadata": {},
   "outputs": [],
   "source": [
    "esta_chovendo = True\n",
    "\n",
    "print(' Hoje estou com as roupas ' + ('secas', 'molhadas')[esta_chovendo])\n",
    "\n",
    "print(' Hoje estou com as roupas ' + ('molhadas' if esta_chovendo else 'secas'))"
   ]
  },
  {
   "cell_type": "markdown",
   "metadata": {},
   "source": [
    "# Mais Operadores (membro / entidade)"
   ]
  },
  {
   "cell_type": "code",
   "execution_count": null,
   "metadata": {},
   "outputs": [],
   "source": [
    "# membro\n",
    "lista = [1,2,3,'Ana','Carla']\n",
    "print(2 in lista)\n",
    "print('Ana' not in lista)\n",
    "\n",
    "# Entidade\n",
    "x = 3 \n",
    "y = x\n",
    "z = 3\n",
    "\n",
    "print(x is z)\n",
    "print(y is z)\n",
    "print(x is not z)\n",
    "\n",
    "lista_a = [1,2,3]\n",
    "lista_b = lista_a\n",
    "lista_c = [1,2,3]\n",
    "\n",
    "print(lista_a is lista_b)\n",
    "print(lista_b is lista_c)\n",
    "print(lista_a is not lista_c)\n",
    "\n",
    "lista_b[1] = 200\n",
    "print(lista_a[1]) # olha que coisa legal, muda o valor pois ambos apontam para o mesmo endereço de memoria"
   ]
  },
  {
   "cell_type": "markdown",
   "metadata": {},
   "source": [
    "# Conversao de Tipos"
   ]
  },
  {
   "cell_type": "code",
   "execution_count": null,
   "metadata": {},
   "outputs": [],
   "source": [
    "2 + 3\n",
    "'2' + '3'\n",
    "\n",
    "\n",
    "a = 1\n",
    "b = '2'\n",
    "\n",
    "print(type(a))\n",
    "print(type(b))\n",
    "\n",
    "c = a + int(b)\n",
    "print(c)\n",
    "\n",
    "d = str(a) + b\n",
    "print(d)\n",
    "\n",
    "e = '3.4'\n",
    "\n",
    "f = a + float(e)\n",
    "print(f)"
   ]
  },
  {
   "cell_type": "markdown",
   "metadata": {},
   "source": [
    "# Coersão automatica"
   ]
  },
  {
   "cell_type": "code",
   "execution_count": null,
   "metadata": {},
   "outputs": [],
   "source": [
    "10 / 2 # dois numeros inteiros geram float\n",
    "2 + True\n",
    "2 + False"
   ]
  },
  {
   "cell_type": "markdown",
   "metadata": {},
   "source": [
    "# Tipos Numericos"
   ]
  },
  {
   "cell_type": "code",
   "execution_count": null,
   "metadata": {},
   "outputs": [],
   "source": [
    "dir(int)\n",
    "dir(float)\n",
    "\n",
    "a = 5\n",
    "b = 2.5\n",
    "\n",
    "print(type(a / b))\n",
    "print(0.5.is_integer())\n",
    "print(5.0.is_integer())"
   ]
  },
  {
   "cell_type": "markdown",
   "metadata": {},
   "source": [
    "# Tipo String"
   ]
  },
  {
   "cell_type": "code",
   "execution_count": 5,
   "metadata": {},
   "outputs": [
    {
     "name": "stdout",
     "output_type": "stream",
     "text": [
      "V\n",
      "True\n",
      "a\n",
      "a\n",
      "paula\n",
      "paula\n",
      "Ana\n",
      "a p\n",
      "123456789\n",
      "123456789\n",
      "123456789\n",
      "13579\n",
      "2468\n",
      "987654321\n",
      "aluap anA\n"
     ]
    }
   ],
   "source": [
    "nome = 'Victor'\n",
    "print(nome[0])\n",
    "\n",
    "print(\"marca d'agua\" == 'marca d\\'agua')\n",
    "nome = 'Ana paula'\n",
    "print(nome[2])\n",
    "print(nome[-1])\n",
    "# o - indica que a contagem vai começar de traz pra frente\n",
    "# os : indica um range que tem um inicio e um final, se nao forem informados os indeces ele assume o \n",
    "# primeiro ou o ultimo valor\n",
    "# exemplo\n",
    "print(nome[4:])\n",
    "print(nome[-5:])\n",
    "# do inicio ate um range, como o primeiro indice é zero, o indice final nao entra\n",
    "# vai exibir somente os 3 primeiros caracteres, pensa dessa forma para simplificar\n",
    "print(nome[:3])\n",
    "print(nome[2:5])\n",
    "numeros = '123456789'\n",
    "print(numeros)\n",
    "print(numeros[:])\n",
    "print(numeros[::])\n",
    "# do inicio ao final de 2 em dois\n",
    "print(numeros[::2])\n",
    "# começando do 1 ate o final somente pares\n",
    "print(numeros[1::2])\n",
    "\n",
    "#INVERTER UMA STRING\n",
    "print(numeros[::-1])\n",
    "print(nome[::-1])"
   ]
  },
  {
   "cell_type": "code",
   "execution_count": 23,
   "metadata": {},
   "outputs": [
    {
     "name": "stdout",
     "output_type": "stream",
     "text": [
      "False\n",
      "True\n",
      "False\n",
      "32\n",
      "python é uma linguagem excelente\n",
      "True\n",
      "Python é uma linguagem excelente\n",
      "PYTHON É UMA LINGUAGEM EXCELENTE\n",
      "PYTHON É UMA LINGUAGEM EXCELENTE\n",
      "['PYTHON', 'É', 'UMA', 'LINGUAGEM', 'EXCELENTE']\n",
      "PYTHON-É-UMA-LINGUAGEM-EXCELENTE\n",
      "<built-in method center of str object at 0x7fadbc88a9d0>\n"
     ]
    }
   ],
   "source": [
    "frase = 'Python é uma linguagem excelente'\n",
    "print('py' in frase)\n",
    "print('Py' in frase)\n",
    "print('Py' not in frase)\n",
    "print(len(frase))\n",
    "print(frase.lower())\n",
    "print('py' in frase.lower())\n",
    "# a string nao é modificada pelo lower\n",
    "print(frase)\n",
    "print(frase.upper())\n",
    "frase = frase.upper()\n",
    "print(frase)\n",
    "print(frase.split())\n",
    "print('-'.join(frase.split()))"
   ]
  }
 ],
 "metadata": {
  "kernelspec": {
   "display_name": "Python 3",
   "language": "python",
   "name": "python3"
  },
  "language_info": {
   "codemirror_mode": {
    "name": "ipython",
    "version": 3
   },
   "file_extension": ".py",
   "mimetype": "text/x-python",
   "name": "python",
   "nbconvert_exporter": "python",
   "pygments_lexer": "ipython3",
   "version": "3.8.3"
  }
 },
 "nbformat": 4,
 "nbformat_minor": 4
}
