{
 "cells": [
  {
   "cell_type": "markdown",
   "metadata": {},
   "source": [
    "# Primeiros Exemplos"
   ]
  },
  {
   "cell_type": "code",
   "execution_count": 1,
   "metadata": {},
   "outputs": [
    {
     "name": "stdout",
     "output_type": "stream",
     "text": [
      "hello word!\n"
     ]
    }
   ],
   "source": [
    "print('hello word!')"
   ]
  },
  {
   "cell_type": "code",
   "execution_count": 7,
   "metadata": {},
   "outputs": [
    {
     "data": {
      "text/plain": [
       "3"
      ]
     },
     "execution_count": 7,
     "metadata": {},
     "output_type": "execute_result"
    }
   ],
   "source": [
    "1 \\\n",
    "    + 2"
   ]
  },
  {
   "cell_type": "code",
   "execution_count": 9,
   "metadata": {},
   "outputs": [
    {
     "name": "stdout",
     "output_type": "stream",
     "text": [
      "Help on built-in function print in module builtins:\n",
      "\n",
      "print(...)\n",
      "    print(value, ..., sep=' ', end='\\n', file=sys.stdout, flush=False)\n",
      "    \n",
      "    Prints the values to a stream, or to sys.stdout by default.\n",
      "    Optional keyword arguments:\n",
      "    file:  a file-like object (stream); defaults to the current sys.stdout.\n",
      "    sep:   string inserted between values, default a space.\n",
      "    end:   string appended after the last value, default a newline.\n",
      "    flush: whether to forcibly flush the stream.\n",
      "\n"
     ]
    }
   ],
   "source": [
    "help(print)"
   ]
  },
  {
   "cell_type": "markdown",
   "metadata": {},
   "source": [
    "print(1 + 2 + 3)\n",
    "print(3 + 4 + 5)"
   ]
  },
  {
   "cell_type": "markdown",
   "metadata": {},
   "source": [
    "# Tipos Básicos"
   ]
  },
  {
   "cell_type": "code",
   "execution_count": 22,
   "metadata": {},
   "outputs": [
    {
     "name": "stdout",
     "output_type": "stream",
     "text": [
      "True\n",
      "False\n",
      "2.2\n",
      "Aqui eu falo a minha lingua!\n",
      "aspas duplas tambem funciona\n",
      "Você é muitoo muitoo muitoo legal\n",
      "[1, 2, 3]\n",
      "{'name': 'victor', 'age': 21}\n",
      "None\n"
     ]
    }
   ],
   "source": [
    "print(True)\n",
    "print(False)\n",
    "print(1.2 + 1)\n",
    "print('Aqui eu falo a minha lingua!')\n",
    "print(\"aspas duplas tambem funciona\")\n",
    "print('Você é ' + 3 * 'muitoo ' + 'legal')\n",
    "# print(3 + '3') => ambiguidade\n",
    "print([1,2,3])\n",
    "print({'name': 'victor', 'age': 21})\n",
    "print(None)"
   ]
  },
  {
   "cell_type": "markdown",
   "metadata": {},
   "source": [
    "# Variáveis"
   ]
  },
  {
   "cell_type": "code",
   "execution_count": 13,
   "metadata": {},
   "outputs": [
    {
     "name": "stdout",
     "output_type": "stream",
     "text": [
      "35\n",
      "10\n",
      "agora sou uma string\n"
     ]
    }
   ],
   "source": [
    "a = 10\n",
    "b = 25\n",
    "\n",
    "print(a + b)\n",
    "print(a)\n",
    "\n",
    "a = 'agora sou uma string'\n",
    "print(a)"
   ]
  },
  {
   "cell_type": "markdown",
   "metadata": {},
   "source": [
    "# Operadores aritméticos"
   ]
  },
  {
   "cell_type": "code",
   "execution_count": 22,
   "metadata": {},
   "outputs": [
    {
     "name": "stdout",
     "output_type": "stream",
     "text": [
      "5\n",
      "-1\n",
      "6\n",
      "2.0\n",
      "1.5\n",
      "1\n",
      "8\n",
      "1\n"
     ]
    }
   ],
   "source": [
    "print( 2 + 3)\n",
    "print( 2 - 3)\n",
    "print( 2 * 3)\n",
    "print( 4 / 2)\n",
    "print( 3 / 2)\n",
    "print( 3 // 2)\n",
    "print( 2 ** 3)\n",
    "print(10 % 3)\n",
    "y = 1\n",
    "# um operando (unario)\n",
    "# dois operandos (binario)\n",
    "# tres operandos (ternario)"
   ]
  },
  {
   "cell_type": "markdown",
   "metadata": {},
   "source": [
    "# Desafio"
   ]
  },
  {
   "cell_type": "code",
   "execution_count": 27,
   "metadata": {},
   "outputs": [
    {
     "name": "stdout",
     "output_type": "stream",
     "text": [
      "71.18491790925822\n"
     ]
    }
   ],
   "source": [
    "salario = 3450.45\n",
    "despesas = 2456.2\n",
    "percentual_comprometimento =  despesas / salario * 100\n",
    "print(percentual_comprometimento)"
   ]
  },
  {
   "cell_type": "markdown",
   "metadata": {},
   "source": [
    "# Operadores Relacionais"
   ]
  },
  {
   "cell_type": "code",
   "execution_count": 31,
   "metadata": {},
   "outputs": [
    {
     "data": {
      "text/plain": [
       "False"
      ]
     },
     "execution_count": 31,
     "metadata": {},
     "output_type": "execute_result"
    }
   ],
   "source": [
    "3 > 4\n",
    "3 < 4\n",
    "3 >= 4\n",
    "3 <= 4\n",
    "3 != 4\n",
    "3 == 4\n",
    "3 == '4'"
   ]
  },
  {
   "cell_type": "markdown",
   "metadata": {},
   "source": [
    "# Operadores de Atribuição"
   ]
  },
  {
   "cell_type": "code",
   "execution_count": 32,
   "metadata": {},
   "outputs": [],
   "source": [
    "a = 3\n",
    "a = a + 7\n",
    "a += 7\n",
    "a *= 7\n",
    "a /= 7\n",
    "a -= 7 \n",
    "a %= 7\n",
    "a **= 7\n",
    "a //= 7"
   ]
  },
  {
   "cell_type": "markdown",
   "metadata": {},
   "source": [
    "# Operadores Logicos"
   ]
  },
  {
   "cell_type": "code",
   "execution_count": 45,
   "metadata": {},
   "outputs": [
    {
     "name": "stdout",
     "output_type": "stream",
     "text": [
      "False\n",
      "True\n",
      "True\n",
      "True\n",
      "False\n",
      "False\n",
      "False\n",
      "True\n",
      "False\n",
      "True\n",
      "True\n",
      "False\n",
      "meta:  True\n"
     ]
    }
   ],
   "source": [
    "# Tabela verdade do or\n",
    "print(False or False)\n",
    "print(False or True)\n",
    "print(True or False)\n",
    "print(True or True)\n",
    "\n",
    "# Tabela verdade do and\n",
    "print(False and False)\n",
    "print(False and True)\n",
    "print(True and False)\n",
    "print(True and True)\n",
    "\n",
    "# Tabela verdade do xor\n",
    "print(False != False)\n",
    "print(False != True)\n",
    "print(True != False)\n",
    "print(True != True)\n",
    "\n",
    "# Operador unario Not\n",
    "not False\n",
    "not True\n",
    "\n",
    "not not True\n",
    "not not not False\n",
    "\n",
    "# Cuidado\n",
    "# Operadores bit a bit\n",
    "True & True\n",
    "False | True\n",
    "True ^ False\n",
    "\n",
    "# && curto circuito\n",
    "# binarios \n",
    "# 3 = 11\n",
    "# 2 = 10\n",
    "3 & 2 \n",
    "# ele compara bit-a-bit como se fosse uma operação\n",
    "# And bit-a-bit\n",
    "# 11 = 1 \n",
    "# 10 = 0\n",
    "# logo 3 & 2 = 10 binario\n",
    "# e o mesmo conceito é usado para as demais operações\n",
    "\n",
    "# OR bit-a-bit\n",
    "# 3 = 11\n",
    "# 2 = 10\n",
    "# 11\n",
    "3 | 2 \n",
    "\n",
    "# XOR bit-a-bit\n",
    "# 3 = 11\n",
    "# 2 = 10\n",
    "# 01\n",
    "3 ^ 2 \n",
    "\n",
    "\n",
    "# Um pouco de realidade\n",
    "saldo  = 1000\n",
    "salario = 4000\n",
    "despesas = 2967\n",
    "\n",
    "# Desafio\n",
    "\n",
    "# Verificar se o nosso amigo bateu a meta ou nao\n",
    "\n",
    "# Se o saldo estiver positivo e o que sobrou no mes foi mais que 20% entao ele bateu a meta\n",
    "\n",
    "# resposta\n",
    "saldo_positivo = saldo > 0\n",
    "despesas_controladas = salario - despesas >= 0.2 * salario\n",
    "meta = saldo_positivo  and despesas_controladas\n",
    "\n",
    "print(\"meta: \", meta)\n",
    "\n",
    "# se substituir o and pelo & vai dar inconsistencia, pois o & tem uma precedencia maior do que os demais \n",
    "# operadores"
   ]
  },
  {
   "cell_type": "markdown",
   "metadata": {},
   "source": [
    "# Desafio Operadores Logicos"
   ]
  },
  {
   "cell_type": "markdown",
   "metadata": {},
   "source": [
    "### ***Uma pessoa vai realizar duas entrevistas de emprego durante a semana, uma na segunda e a outra na sexta  se a pessoa conseguir admição nas duas entrevistas ela prometeu a familia leva-los em um restaurante e logo após pedir uma sobremesa, se a pessoa for admita em apenas um dos dois empregos ela vai levar a familia para tomar sorvete, caso ele nao consiga nenhum dos dois empregos, ele não vai levar a familia em lugar algum, porem ele vai se manter saudavel.***\n",
    ">\n",
    ">\n"
   ]
  },
  {
   "cell_type": "code",
   "execution_count": 58,
   "metadata": {},
   "outputs": [
    {
     "name": "stdout",
     "output_type": "stream",
     "text": [
      "restaurante + sobremesa: False, sorvete: False, saude: True\n"
     ]
    }
   ],
   "source": [
    "# Os trabalhos \n",
    "trabalho_segunda = False\n",
    "trabalho_sexta = False\n",
    "\n",
    "\"\"\" \n",
    "- confirmado os 2 trabalhos = restaurante + sobremesa\n",
    "- confirmado apenas 1 trabalho = apenas sorvete\n",
    "- nenhum trabalho confirmado = mais saudavel\n",
    "\"\"\"\n",
    "\n",
    "restaurante_sobremesa = trabalho_segunda and trabalho_sexta\n",
    "sorvete = trabalho_segunda or trabalho_sexta\n",
    "saude = not sorvete\n",
    "\n",
    "print('restaurante + sobremesa: {}, sorvete: {}, saude: {}'\n",
    "      .format(restaurante_sobremesa,sorvete,saude))"
   ]
  },
  {
   "cell_type": "markdown",
   "metadata": {},
   "source": [
    "# Operadores Unarios"
   ]
  },
  {
   "cell_type": "code",
   "execution_count": 65,
   "metadata": {},
   "outputs": [
    {
     "name": "stdout",
     "output_type": "stream",
     "text": [
      "3\n",
      "4\n",
      "-4\n",
      "4\n",
      "True\n",
      "False\n",
      "False\n",
      "True\n"
     ]
    }
   ],
   "source": [
    "a = 3\n",
    "print(a)\n",
    "# a++ não funciona\n",
    "a += 1\n",
    "print(a)\n",
    "print(-a)\n",
    "print(a)\n",
    "\n",
    "# Logicos\n",
    "print(not 0)\n",
    "print(not 1)\n",
    "print(not -1) \n",
    "print(not False)"
   ]
  },
  {
   "cell_type": "markdown",
   "metadata": {},
   "source": [
    "# Operadores Ternarios"
   ]
  },
  {
   "cell_type": "code",
   "execution_count": 73,
   "metadata": {},
   "outputs": [
    {
     "name": "stdout",
     "output_type": "stream",
     "text": [
      " Hoje estou com as roupas molhadas\n",
      " Hoje estou com as roupas molhadas\n"
     ]
    }
   ],
   "source": [
    "esta_chovendo = True\n",
    "\n",
    "print(' Hoje estou com as roupas ' + ('secas', 'molhadas')[esta_chovendo])\n",
    "\n",
    "print(' Hoje estou com as roupas ' + ('molhadas' if esta_chovendo else 'secas'))"
   ]
  },
  {
   "cell_type": "markdown",
   "metadata": {},
   "source": [
    "# Mais Operadores (membro / entidade)"
   ]
  },
  {
   "cell_type": "code",
   "execution_count": 87,
   "metadata": {},
   "outputs": [
    {
     "name": "stdout",
     "output_type": "stream",
     "text": [
      "True\n",
      "False\n",
      "True\n",
      "True\n",
      "False\n",
      "True\n",
      "False\n",
      "True\n",
      "200\n"
     ]
    }
   ],
   "source": [
    "# membro\n",
    "lista = [1,2,3,'Ana','Carla']\n",
    "print(2 in lista)\n",
    "print('Ana' not in lista)\n",
    "\n",
    "# Entidade\n",
    "x = 3 \n",
    "y = x\n",
    "z = 3\n",
    "\n",
    "print(x is z)\n",
    "print(y is z)\n",
    "print(x is not z)\n",
    "\n",
    "lista_a = [1,2,3]\n",
    "lista_b = lista_a\n",
    "lista_c = [1,2,3]\n",
    "\n",
    "print(lista_a is lista_b)\n",
    "print(lista_b is lista_c)\n",
    "print(lista_a is not lista_c)\n",
    "\n",
    "lista_b[1] = 200\n",
    "print(lista_a[1]) # olha que coisa legal, muda o valor pois ambos apontam para o mesmo endereço de memoria"
   ]
  },
  {
   "cell_type": "markdown",
   "metadata": {},
   "source": [
    "# Conversao de Tipos"
   ]
  },
  {
   "cell_type": "code",
   "execution_count": 95,
   "metadata": {},
   "outputs": [
    {
     "name": "stdout",
     "output_type": "stream",
     "text": [
      "<class 'int'>\n",
      "<class 'str'>\n",
      "3\n",
      "12\n",
      "4.4\n"
     ]
    }
   ],
   "source": [
    "2 + 3\n",
    "'2' + '3'\n",
    "\n",
    "\n",
    "a = 1\n",
    "b = '2'\n",
    "\n",
    "print(type(a))\n",
    "print(type(b))\n",
    "\n",
    "c = a + int(b)\n",
    "print(c)\n",
    "\n",
    "d = str(a) + b\n",
    "print(d)\n",
    "\n",
    "e = '3.4'\n",
    "\n",
    "f = a + float(e)\n",
    "print(f)"
   ]
  },
  {
   "cell_type": "markdown",
   "metadata": {},
   "source": [
    "# Coersão automatica"
   ]
  },
  {
   "cell_type": "code",
   "execution_count": 100,
   "metadata": {},
   "outputs": [
    {
     "data": {
      "text/plain": [
       "2"
      ]
     },
     "execution_count": 100,
     "metadata": {},
     "output_type": "execute_result"
    }
   ],
   "source": [
    "10 / 2 # dois numeros inteiros geram float\n",
    "2 + True\n",
    "2 + False"
   ]
  },
  {
   "cell_type": "markdown",
   "metadata": {},
   "source": [
    "# Tipos Numericos"
   ]
  },
  {
   "cell_type": "code",
   "execution_count": 107,
   "metadata": {},
   "outputs": [
    {
     "name": "stdout",
     "output_type": "stream",
     "text": [
      "<class 'float'>\n",
      "False\n",
      "True\n"
     ]
    }
   ],
   "source": [
    "dir(int)\n",
    "dir(float)\n",
    "\n",
    "a = 5\n",
    "b = 2.5\n",
    "\n",
    "print(type(a / b))\n",
    "print(0.5.is_integer())\n",
    "print(5.0.is_integer())"
   ]
  },
  {
   "cell_type": "markdown",
   "metadata": {},
   "source": [
    "# Tipo String"
   ]
  },
  {
   "cell_type": "code",
   "execution_count": 111,
   "metadata": {},
   "outputs": [
    {
     "name": "stdout",
     "output_type": "stream",
     "text": [
      "V\n",
      "True\n"
     ]
    }
   ],
   "source": [
    "nome = 'Victor'\n",
    "print(nome[0])\n",
    "\n",
    "print(\"marca d'agua\" == 'marca d\\'agua')"
   ]
  }
 ],
 "metadata": {
  "kernelspec": {
   "display_name": "Python 3",
   "language": "python",
   "name": "python3"
  },
  "language_info": {
   "codemirror_mode": {
    "name": "ipython",
    "version": 3
   },
   "file_extension": ".py",
   "mimetype": "text/x-python",
   "name": "python",
   "nbconvert_exporter": "python",
   "pygments_lexer": "ipython3",
   "version": "3.8.3"
  }
 },
 "nbformat": 4,
 "nbformat_minor": 4
}
