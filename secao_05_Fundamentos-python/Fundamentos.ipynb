{
 "cells": [
  {
   "cell_type": "markdown",
   "metadata": {},
   "source": [
    "# Primeiros Exemplos"
   ]
  },
  {
   "cell_type": "code",
   "execution_count": null,
   "metadata": {},
   "outputs": [],
   "source": [
    "print('hello word!')"
   ]
  },
  {
   "cell_type": "code",
   "execution_count": null,
   "metadata": {},
   "outputs": [],
   "source": [
    "1 \\\n",
    "    + 2"
   ]
  },
  {
   "cell_type": "code",
   "execution_count": null,
   "metadata": {},
   "outputs": [],
   "source": [
    "help(print)"
   ]
  },
  {
   "cell_type": "markdown",
   "metadata": {},
   "source": [
    "print(1 + 2 + 3)\n",
    "print(3 + 4 + 5)"
   ]
  },
  {
   "cell_type": "markdown",
   "metadata": {},
   "source": [
    "# Tipos Básicos"
   ]
  },
  {
   "cell_type": "code",
   "execution_count": null,
   "metadata": {},
   "outputs": [],
   "source": [
    "print(True)\n",
    "print(False)\n",
    "print(1.2 + 1)\n",
    "print('Aqui eu falo a minha lingua!')\n",
    "print(\"aspas duplas tambem funciona\")\n",
    "print('Você é ' + 3 * 'muitoo ' + 'legal')\n",
    "# print(3 + '3') => ambiguidade\n",
    "print([1,2,3])\n",
    "print({'name': 'victor', 'age': 21})\n",
    "print(None)"
   ]
  },
  {
   "cell_type": "markdown",
   "metadata": {},
   "source": [
    "# Variáveis"
   ]
  },
  {
   "cell_type": "code",
   "execution_count": null,
   "metadata": {},
   "outputs": [],
   "source": [
    "a = 10\n",
    "b = 25\n",
    "\n",
    "print(a + b)\n",
    "print(a)\n",
    "\n",
    "a = 'agora sou uma string'\n",
    "print(a)"
   ]
  },
  {
   "cell_type": "markdown",
   "metadata": {},
   "source": [
    "# Operadores aritméticos"
   ]
  },
  {
   "cell_type": "code",
   "execution_count": null,
   "metadata": {},
   "outputs": [],
   "source": [
    "print( 2 + 3)\n",
    "print( 2 - 3)\n",
    "print( 2 * 3)\n",
    "print( 4 / 2)\n",
    "print( 3 / 2)\n",
    "print( 3 // 2)\n",
    "print( 2 ** 3)\n",
    "print(10 % 3)\n",
    "y = 1\n",
    "# um operando (unario)\n",
    "# dois operandos (binario)\n",
    "# tres operandos (ternario)"
   ]
  },
  {
   "cell_type": "markdown",
   "metadata": {},
   "source": [
    "# Desafio"
   ]
  },
  {
   "cell_type": "code",
   "execution_count": null,
   "metadata": {},
   "outputs": [],
   "source": [
    "salario = 3450.45\n",
    "despesas = 2456.2\n",
    "percentual_comprometimento =  despesas / salario * 100\n",
    "print(percentual_comprometimento)"
   ]
  },
  {
   "cell_type": "markdown",
   "metadata": {},
   "source": [
    "# Operadores Relacionais"
   ]
  },
  {
   "cell_type": "code",
   "execution_count": null,
   "metadata": {},
   "outputs": [],
   "source": [
    "3 > 4\n",
    "3 < 4\n",
    "3 >= 4\n",
    "3 <= 4\n",
    "3 != 4\n",
    "3 == 4\n",
    "3 == '4'"
   ]
  },
  {
   "cell_type": "markdown",
   "metadata": {},
   "source": [
    "# Operadores de Atribuição"
   ]
  },
  {
   "cell_type": "code",
   "execution_count": null,
   "metadata": {},
   "outputs": [],
   "source": [
    "a = 3\n",
    "a = a + 7\n",
    "a += 7\n",
    "a *= 7\n",
    "a /= 7\n",
    "a -= 7 \n",
    "a %= 7\n",
    "a **= 7\n",
    "a //= 7"
   ]
  },
  {
   "cell_type": "markdown",
   "metadata": {},
   "source": [
    "# Operadores Logicos"
   ]
  },
  {
   "cell_type": "code",
   "execution_count": null,
   "metadata": {},
   "outputs": [],
   "source": [
    "# Tabela verdade do or\n",
    "print(False or False)\n",
    "print(False or True)\n",
    "print(True or False)\n",
    "print(True or True)\n",
    "\n",
    "# Tabela verdade do and\n",
    "print(False and False)\n",
    "print(False and True)\n",
    "print(True and False)\n",
    "print(True and True)\n",
    "\n",
    "# Tabela verdade do xor\n",
    "print(False != False)\n",
    "print(False != True)\n",
    "print(True != False)\n",
    "print(True != True)\n",
    "\n",
    "# Operador unario Not\n",
    "not False\n",
    "not True\n",
    "\n",
    "not not True\n",
    "not not not False\n",
    "\n",
    "# Cuidado\n",
    "# Operadores bit a bit\n",
    "True & True\n",
    "False | True\n",
    "True ^ False\n",
    "\n",
    "# && curto circuito\n",
    "# binarios \n",
    "# 3 = 11\n",
    "# 2 = 10\n",
    "3 & 2 \n",
    "# ele compara bit-a-bit como se fosse uma operação\n",
    "# And bit-a-bit\n",
    "# 11 = 1 \n",
    "# 10 = 0\n",
    "# logo 3 & 2 = 10 binario\n",
    "# e o mesmo conceito é usado para as demais operações\n",
    "\n",
    "# OR bit-a-bit\n",
    "# 3 = 11\n",
    "# 2 = 10\n",
    "# 11\n",
    "3 | 2 \n",
    "\n",
    "# XOR bit-a-bit\n",
    "# 3 = 11\n",
    "# 2 = 10\n",
    "# 01\n",
    "3 ^ 2 \n",
    "\n",
    "\n",
    "# Um pouco de realidade\n",
    "saldo  = 1000\n",
    "salario = 4000\n",
    "despesas = 2967\n",
    "\n",
    "# Desafio\n",
    "\n",
    "# Verificar se o nosso amigo bateu a meta ou nao\n",
    "\n",
    "# Se o saldo estiver positivo e o que sobrou no mes foi mais que 20% entao ele bateu a meta\n",
    "\n",
    "# resposta\n",
    "saldo_positivo = saldo > 0\n",
    "despesas_controladas = salario - despesas >= 0.2 * salario\n",
    "meta = saldo_positivo  and despesas_controladas\n",
    "\n",
    "print(\"meta: \", meta)\n",
    "\n",
    "# se substituir o and pelo & vai dar inconsistencia, pois o & tem uma precedencia maior do que os demais \n",
    "# operadores"
   ]
  },
  {
   "cell_type": "markdown",
   "metadata": {},
   "source": [
    "# Desafio Operadores Logicos"
   ]
  },
  {
   "cell_type": "markdown",
   "metadata": {},
   "source": [
    "### ***Uma pessoa vai realizar duas entrevistas de emprego durante a semana, uma na segunda e a outra na sexta  se a pessoa conseguir admição nas duas entrevistas ela prometeu a familia leva-los em um restaurante e logo após pedir uma sobremesa, se a pessoa for admita em apenas um dos dois empregos ela vai levar a familia para tomar sorvete, caso ele nao consiga nenhum dos dois empregos, ele não vai levar a familia em lugar algum, porem ele vai se manter saudavel.***\n",
    ">\n",
    ">\n"
   ]
  },
  {
   "cell_type": "code",
   "execution_count": null,
   "metadata": {},
   "outputs": [],
   "source": [
    "# Os trabalhos \n",
    "trabalho_segunda = False\n",
    "trabalho_sexta = False\n",
    "\n",
    "\"\"\" \n",
    "- confirmado os 2 trabalhos = restaurante + sobremesa\n",
    "- confirmado apenas 1 trabalho = apenas sorvete\n",
    "- nenhum trabalho confirmado = mais saudavel\n",
    "\"\"\"\n",
    "\n",
    "restaurante_sobremesa = trabalho_segunda and trabalho_sexta\n",
    "sorvete = trabalho_segunda or trabalho_sexta\n",
    "saude = not sorvete\n",
    "\n",
    "print('restaurante + sobremesa: {}, sorvete: {}, saude: {}'\n",
    "      .format(restaurante_sobremesa,sorvete,saude))"
   ]
  },
  {
   "cell_type": "markdown",
   "metadata": {},
   "source": [
    "# Operadores Unarios"
   ]
  },
  {
   "cell_type": "code",
   "execution_count": null,
   "metadata": {},
   "outputs": [],
   "source": [
    "a = 3\n",
    "print(a)\n",
    "# a++ não funciona\n",
    "a += 1\n",
    "print(a)\n",
    "print(-a)\n",
    "print(a)\n",
    "\n",
    "# Logicos\n",
    "print(not 0)\n",
    "print(not 1)\n",
    "print(not -1) \n",
    "print(not False)"
   ]
  },
  {
   "cell_type": "markdown",
   "metadata": {},
   "source": [
    "# Operadores Ternarios"
   ]
  },
  {
   "cell_type": "code",
   "execution_count": null,
   "metadata": {},
   "outputs": [],
   "source": [
    "esta_chovendo = True\n",
    "\n",
    "print(' Hoje estou com as roupas ' + ('secas', 'molhadas')[esta_chovendo])\n",
    "\n",
    "print(' Hoje estou com as roupas ' + ('molhadas' if esta_chovendo else 'secas'))"
   ]
  },
  {
   "cell_type": "markdown",
   "metadata": {},
   "source": [
    "# Mais Operadores (membro / entidade)"
   ]
  },
  {
   "cell_type": "code",
   "execution_count": null,
   "metadata": {},
   "outputs": [],
   "source": [
    "# membro\n",
    "lista = [1,2,3,'Ana','Carla']\n",
    "print(2 in lista)\n",
    "print('Ana' not in lista)\n",
    "\n",
    "# Entidade\n",
    "x = 3 \n",
    "y = x\n",
    "z = 3\n",
    "\n",
    "print(x is z)\n",
    "print(y is z)\n",
    "print(x is not z)\n",
    "\n",
    "lista_a = [1,2,3]\n",
    "lista_b = lista_a\n",
    "lista_c = [1,2,3]\n",
    "\n",
    "print(lista_a is lista_b)\n",
    "print(lista_b is lista_c)\n",
    "print(lista_a is not lista_c)\n",
    "\n",
    "lista_b[1] = 200\n",
    "print(lista_a[1]) # olha que coisa legal, muda o valor pois ambos apontam para o mesmo endereço de memoria"
   ]
  },
  {
   "cell_type": "markdown",
   "metadata": {},
   "source": [
    "# Conversao de Tipos"
   ]
  },
  {
   "cell_type": "code",
   "execution_count": null,
   "metadata": {},
   "outputs": [],
   "source": [
    "2 + 3\n",
    "'2' + '3'\n",
    "\n",
    "\n",
    "a = 1\n",
    "b = '2'\n",
    "\n",
    "print(type(a))\n",
    "print(type(b))\n",
    "\n",
    "c = a + int(b)\n",
    "print(c)\n",
    "\n",
    "d = str(a) + b\n",
    "print(d)\n",
    "\n",
    "e = '3.4'\n",
    "\n",
    "f = a + float(e)\n",
    "print(f)"
   ]
  },
  {
   "cell_type": "markdown",
   "metadata": {},
   "source": [
    "# Coersão automatica"
   ]
  },
  {
   "cell_type": "code",
   "execution_count": null,
   "metadata": {},
   "outputs": [],
   "source": [
    "10 / 2 # dois numeros inteiros geram float\n",
    "2 + True\n",
    "2 + False"
   ]
  },
  {
   "cell_type": "markdown",
   "metadata": {},
   "source": [
    "# Tipos Numericos"
   ]
  },
  {
   "cell_type": "code",
   "execution_count": null,
   "metadata": {},
   "outputs": [],
   "source": [
    "dir(int)\n",
    "dir(float)\n",
    "\n",
    "a = 5\n",
    "b = 2.5\n",
    "\n",
    "print(type(a / b))\n",
    "print(0.5.is_integer())\n",
    "print(5.0.is_integer())"
   ]
  },
  {
   "cell_type": "markdown",
   "metadata": {},
   "source": [
    "# Tipo String"
   ]
  },
  {
   "cell_type": "code",
   "execution_count": null,
   "metadata": {},
   "outputs": [],
   "source": [
    "nome = 'Victor'\n",
    "print(nome[0])\n",
    "\n",
    "print(\"marca d'agua\" == 'marca d\\'agua')\n",
    "nome = 'Ana paula'\n",
    "print(nome[2])\n",
    "print(nome[-1])\n",
    "# o - indica que a contagem vai começar de traz pra frente\n",
    "# os : indica um range que tem um inicio e um final, se nao forem informados os indeces ele assume o \n",
    "# primeiro ou o ultimo valor\n",
    "# exemplo\n",
    "print(nome[4:])\n",
    "print(nome[-5:])\n",
    "# do inicio ate um range, como o primeiro indice é zero, o indice final nao entra\n",
    "# vai exibir somente os 3 primeiros caracteres, pensa dessa forma para simplificar\n",
    "print(nome[:3])\n",
    "print(nome[2:5])\n",
    "numeros = '123456789'\n",
    "print(numeros)\n",
    "print(numeros[:])\n",
    "print(numeros[::])\n",
    "# do inicio ao final de 2 em dois\n",
    "print(numeros[::2])\n",
    "# começando do 1 ate o final somente pares\n",
    "print(numeros[1::2])\n",
    "\n",
    "#INVERTER UMA STRING\n",
    "print(numeros[::-1])\n",
    "print(nome[::-1])"
   ]
  },
  {
   "cell_type": "code",
   "execution_count": null,
   "metadata": {},
   "outputs": [],
   "source": [
    "frase = 'Python é uma linguagem excelente'\n",
    "print('py' in frase)\n",
    "print('Py' in frase)\n",
    "print('Py' not in frase)\n",
    "print(len(frase))\n",
    "print(frase.lower())\n",
    "print('py' in frase.lower())\n",
    "# a string nao é modificada pelo lower\n",
    "print(frase)\n",
    "print(frase.upper())\n",
    "frase = frase.upper()\n",
    "print(frase)\n",
    "print(frase.split())\n",
    "print('-'.join(frase.split()))"
   ]
  },
  {
   "cell_type": "markdown",
   "metadata": {},
   "source": [
    "# Listas"
   ]
  },
  {
   "cell_type": "code",
   "execution_count": 3,
   "metadata": {},
   "outputs": [
    {
     "name": "stdout",
     "output_type": "stream",
     "text": [
      "Help on class list in module builtins:\n",
      "\n",
      "class list(object)\n",
      " |  list(iterable=(), /)\n",
      " |  \n",
      " |  Built-in mutable sequence.\n",
      " |  \n",
      " |  If no argument is given, the constructor creates a new empty list.\n",
      " |  The argument must be an iterable if specified.\n",
      " |  \n",
      " |  Methods defined here:\n",
      " |  \n",
      " |  __add__(self, value, /)\n",
      " |      Return self+value.\n",
      " |  \n",
      " |  __contains__(self, key, /)\n",
      " |      Return key in self.\n",
      " |  \n",
      " |  __delitem__(self, key, /)\n",
      " |      Delete self[key].\n",
      " |  \n",
      " |  __eq__(self, value, /)\n",
      " |      Return self==value.\n",
      " |  \n",
      " |  __ge__(self, value, /)\n",
      " |      Return self>=value.\n",
      " |  \n",
      " |  __getattribute__(self, name, /)\n",
      " |      Return getattr(self, name).\n",
      " |  \n",
      " |  __getitem__(...)\n",
      " |      x.__getitem__(y) <==> x[y]\n",
      " |  \n",
      " |  __gt__(self, value, /)\n",
      " |      Return self>value.\n",
      " |  \n",
      " |  __iadd__(self, value, /)\n",
      " |      Implement self+=value.\n",
      " |  \n",
      " |  __imul__(self, value, /)\n",
      " |      Implement self*=value.\n",
      " |  \n",
      " |  __init__(self, /, *args, **kwargs)\n",
      " |      Initialize self.  See help(type(self)) for accurate signature.\n",
      " |  \n",
      " |  __iter__(self, /)\n",
      " |      Implement iter(self).\n",
      " |  \n",
      " |  __le__(self, value, /)\n",
      " |      Return self<=value.\n",
      " |  \n",
      " |  __len__(self, /)\n",
      " |      Return len(self).\n",
      " |  \n",
      " |  __lt__(self, value, /)\n",
      " |      Return self<value.\n",
      " |  \n",
      " |  __mul__(self, value, /)\n",
      " |      Return self*value.\n",
      " |  \n",
      " |  __ne__(self, value, /)\n",
      " |      Return self!=value.\n",
      " |  \n",
      " |  __repr__(self, /)\n",
      " |      Return repr(self).\n",
      " |  \n",
      " |  __reversed__(self, /)\n",
      " |      Return a reverse iterator over the list.\n",
      " |  \n",
      " |  __rmul__(self, value, /)\n",
      " |      Return value*self.\n",
      " |  \n",
      " |  __setitem__(self, key, value, /)\n",
      " |      Set self[key] to value.\n",
      " |  \n",
      " |  __sizeof__(self, /)\n",
      " |      Return the size of the list in memory, in bytes.\n",
      " |  \n",
      " |  append(self, object, /)\n",
      " |      Append object to the end of the list.\n",
      " |  \n",
      " |  clear(self, /)\n",
      " |      Remove all items from list.\n",
      " |  \n",
      " |  copy(self, /)\n",
      " |      Return a shallow copy of the list.\n",
      " |  \n",
      " |  count(self, value, /)\n",
      " |      Return number of occurrences of value.\n",
      " |  \n",
      " |  extend(self, iterable, /)\n",
      " |      Extend list by appending elements from the iterable.\n",
      " |  \n",
      " |  index(self, value, start=0, stop=9223372036854775807, /)\n",
      " |      Return first index of value.\n",
      " |      \n",
      " |      Raises ValueError if the value is not present.\n",
      " |  \n",
      " |  insert(self, index, object, /)\n",
      " |      Insert object before index.\n",
      " |  \n",
      " |  pop(self, index=-1, /)\n",
      " |      Remove and return item at index (default last).\n",
      " |      \n",
      " |      Raises IndexError if list is empty or index is out of range.\n",
      " |  \n",
      " |  remove(self, value, /)\n",
      " |      Remove first occurrence of value.\n",
      " |      \n",
      " |      Raises ValueError if the value is not present.\n",
      " |  \n",
      " |  reverse(self, /)\n",
      " |      Reverse *IN PLACE*.\n",
      " |  \n",
      " |  sort(self, /, *, key=None, reverse=False)\n",
      " |      Sort the list in ascending order and return None.\n",
      " |      \n",
      " |      The sort is in-place (i.e. the list itself is modified) and stable (i.e. the\n",
      " |      order of two equal elements is maintained).\n",
      " |      \n",
      " |      If a key function is given, apply it once to each list item and sort them,\n",
      " |      ascending or descending, according to their function values.\n",
      " |      \n",
      " |      The reverse flag can be set to sort in descending order.\n",
      " |  \n",
      " |  ----------------------------------------------------------------------\n",
      " |  Static methods defined here:\n",
      " |  \n",
      " |  __new__(*args, **kwargs) from builtins.type\n",
      " |      Create and return a new object.  See help(type) for accurate signature.\n",
      " |  \n",
      " |  ----------------------------------------------------------------------\n",
      " |  Data and other attributes defined here:\n",
      " |  \n",
      " |  __hash__ = None\n",
      "\n"
     ]
    },
    {
     "data": {
      "text/plain": [
       "[1, 5]"
      ]
     },
     "execution_count": 3,
     "metadata": {},
     "output_type": "execute_result"
    }
   ],
   "source": [
    "lista = []\n",
    "type(lista)\n",
    "help(list)\n",
    "dir(list)\n",
    "# uma lista em python é mutavel, dinamica e heterogenica\n",
    "len(lista)\n",
    "lista.append(1)\n",
    "lista.append(5)\n",
    "lista"
   ]
  },
  {
   "cell_type": "code",
   "execution_count": 13,
   "metadata": {},
   "outputs": [
    {
     "data": {
      "text/plain": [
       "[5, 'willian', 1]"
      ]
     },
     "execution_count": 13,
     "metadata": {},
     "output_type": "execute_result"
    }
   ],
   "source": [
    "nova_lista = [1, 'victor', 'willian']\n",
    "nova_lista\n",
    "# não é uma boa pratica listas heterogenicas\n",
    "nova_lista.append(5)\n",
    "nova_lista\n",
    "# nova_lista.remove('Victor') valor que nao existe por causa da letra maiuscula\n",
    "nova_lista.remove('victor')\n",
    "nova_lista\n",
    "\n",
    "#OBSERVAÇÃO IMPORTANTES, OS METODOS DA LISTA LITERALMENTE ALTERAM A LISTA, DIFERENTE DOS METODOS DA STRING\n",
    "#[1, 'willian', 5]\n",
    "nova_lista.reverse()\n",
    "# [5, 'willian', 1] reverse\n",
    "nova_lista"
   ]
  },
  {
   "cell_type": "code",
   "execution_count": 26,
   "metadata": {},
   "outputs": [
    {
     "data": {
      "text/plain": [
       "1"
      ]
     },
     "execution_count": 26,
     "metadata": {},
     "output_type": "execute_result"
    }
   ],
   "source": [
    "# as listas sao indexadas, ou seja, conseguimos acessar o valor a partir do indice\n",
    "# IMPORTANTE, tambem conseguimos acessar um indice a partir de um valor literal\n",
    "lista = [1, 2 , 3 , 'victor', 'willian', 3.1415]\n",
    "lista\n",
    "lista.index('victor') # 3\n",
    "lista[3] # 'victor'\n",
    "# acessar um valor que nao existe vai gerar um erro\n",
    "1 in lista\n",
    "'willian' in lista\n",
    "'joao' not in lista\n",
    "3.1415 not in lista\n",
    "# ultimo elemento da lista\n",
    "lista[-1]\n",
    "# primeiro elemento da lista\n",
    "lista[0]"
   ]
  },
  {
   "cell_type": "code",
   "execution_count": 34,
   "metadata": {},
   "outputs": [
    {
     "data": {
      "text/plain": [
       "['ana']"
      ]
     },
     "execution_count": 34,
     "metadata": {},
     "output_type": "execute_result"
    }
   ],
   "source": [
    "lista = ['ana', 'paula', 'ruy', 'dani', 'lia']\n",
    "# todos menos o ultimo\n",
    "lista[:-1]\n",
    "# todos pares\n",
    "lista[::2]\n",
    "del lista[1::]\n",
    "lista"
   ]
  },
  {
   "cell_type": "markdown",
   "metadata": {},
   "source": [
    "# Tuplas"
   ]
  },
  {
   "cell_type": "code",
   "execution_count": 48,
   "metadata": {},
   "outputs": [
    {
     "data": {
      "text/plain": [
       "2"
      ]
     },
     "execution_count": 48,
     "metadata": {},
     "output_type": "execute_result"
    }
   ],
   "source": [
    "# a grande diferença das tuplas pras lista é que as tuplas sao imutaveis\n",
    "tupla = tuple()\n",
    "type(tupla)\n",
    "tupla = ()\n",
    "type(tupla)\n",
    "dir(tupla)\n",
    "# help(tupla)\n",
    "tupla = ('um') # isso nao defini uma tupla\n",
    "type(tupla)\n",
    "# criar uma tupla com um unico elemento\n",
    "tupla = ('um',)\n",
    "type(tupla)\n",
    "tupla[0]\n",
    "# estrutura indexada\n",
    "# tupla[0] = 'teste' # error\n",
    "# UMA TUPLA COM MAIS DE UM ELEMENTO NAO PRECISA DA ,\n",
    "tupla = ('um','dois','dois','tres')\n",
    "type(tupla)\n",
    "tupla[-1]\n",
    "tupla.index('um')\n",
    "tupla.count('dois')"
   ]
  },
  {
   "cell_type": "markdown",
   "metadata": {},
   "source": [
    "# Dicionarios"
   ]
  },
  {
   "cell_type": "code",
   "execution_count": 76,
   "metadata": {},
   "outputs": [
    {
     "data": {
      "text/plain": [
       "[]"
      ]
     },
     "execution_count": 76,
     "metadata": {},
     "output_type": "execute_result"
    }
   ],
   "source": [
    "pessoa = {'nome': 'victor', 'idade':21, 'cursos':['python','javascript']}\n",
    "pessoa\n",
    "type(pessoa)\n",
    "dir(dict)\n",
    "pessoa['nome']\n",
    "# python nao suporta a implementação dessa sintaxe como objeto, isso é um dicionario\n",
    "len(pessoa)\n",
    "idade = 'idade'\n",
    "pessoa = {'nome': 'victor', idade:21, 'cursos':['python','javascript']}\n",
    "pessoa\n",
    "# pessoa[-1] # nao suporta\n",
    "pessoa['cursos'][0]\n",
    "pessoa.keys()\n",
    "pessoa.values()\n",
    "pessoa.items()\n",
    "pessoa.get('nome')\n",
    "pessoa.get('nao_existo') # nao da erro\n",
    "\n",
    "# definir valores padrao, se nao existe retorne uma lista vazia\n",
    "pessoa.get('nao_existo', [])"
   ]
  },
  {
   "cell_type": "code",
   "execution_count": 1,
   "metadata": {},
   "outputs": [
    {
     "data": {
      "text/plain": [
       "{}"
      ]
     },
     "execution_count": 1,
     "metadata": {},
     "output_type": "execute_result"
    }
   ],
   "source": [
    "pessoa = {'nome': 'sousa', 'idade':21, 'cursos':['python','javascript','vue']}\n",
    "pessoa['cursos'].append('angular')\n",
    "pessoa\n",
    "# o pop retorna um valor e retira do dict\n",
    "pessoa.pop('idade') # 21\n",
    "pessoa\n",
    "pessoa.update({'idade': 21, 'sexo':'M'})\n",
    "pessoa\n",
    "del pessoa['sexo']\n",
    "pessoa\n",
    "pessoa.clear()\n",
    "pessoa"
   ]
  },
  {
   "cell_type": "markdown",
   "metadata": {},
   "source": [
    "# Conjuntos (set)"
   ]
  },
  {
   "cell_type": "code",
   "execution_count": 18,
   "metadata": {},
   "outputs": [
    {
     "data": {
      "text/plain": [
       "{1}"
      ]
     },
     "execution_count": 18,
     "metadata": {},
     "output_type": "execute_result"
    }
   ],
   "source": [
    "# não é indexado\n",
    "# não aceita valores repetidos\n",
    "# não garante a ordenação\n",
    "# pode fazer uniao, interseção etc\n",
    "\n",
    "a = {1,2,3}\n",
    "type(a)\n",
    "a = set('victor')\n",
    "a\n",
    "'v' in a\n",
    "'3' not in a\n",
    "{1, 2, 3} == {3, 3, 1, 2} # true pois ele nao garante ordenação e remove os valores repetidos\n",
    "\n",
    "# operações\n",
    "c1 = {1, 2}\n",
    "c2 = {2 , 3}\n",
    "c1.union(c2)\n",
    "c1.intersection(c2)\n",
    "c1.update(c2)\n",
    "c1\n",
    "# c2 é subconjunto de c1\n",
    "c2 <= c1\n",
    "c1 >= c2\n",
    "{1,2,3} - {2}\n",
    "c1 -= c2\n",
    "c1"
   ]
  },
  {
   "cell_type": "markdown",
   "metadata": {},
   "source": [
    "# Interpolação"
   ]
  },
  {
   "cell_type": "code",
   "execution_count": 33,
   "metadata": {},
   "outputs": [
    {
     "name": "stdout",
     "output_type": "stream",
     "text": [
      "nome: victor, idade: 21.22 True False\n",
      "nome: victor, idade: 21.22\n",
      "nome: victor, idade: 21.22\n",
      "nome: victor, idade: 21.22333\n"
     ]
    }
   ],
   "source": [
    "nome, idade = 'victor', 21.22333\n",
    "print('nome: %s, idade: %.2f %r %r' % (nome, idade, True, False)) # versao mais antiga\n",
    "print('nome: {}, idade: {:.2f}'.format(nome, idade)) # python <= 3.6\n",
    "print(f'nome: {nome}, idade: {idade:.2f}') # python => 3.6\n",
    "\n",
    "from string import Template\n",
    "\n",
    "s = Template('nome: $n, idade: $idade')\n",
    "print(s.substitute(n=nome, idade=idade))"
   ]
  }
 ],
 "metadata": {
  "kernelspec": {
   "display_name": "Python 3",
   "language": "python",
   "name": "python3"
  },
  "language_info": {
   "codemirror_mode": {
    "name": "ipython",
    "version": 3
   },
   "file_extension": ".py",
   "mimetype": "text/x-python",
   "name": "python",
   "nbconvert_exporter": "python",
   "pygments_lexer": "ipython3",
   "version": "3.8.3"
  }
 },
 "nbformat": 4,
 "nbformat_minor": 4
}
